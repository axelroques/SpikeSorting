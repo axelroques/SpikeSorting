{
 "cells": [
  {
   "cell_type": "code",
   "execution_count": 1,
   "metadata": {},
   "outputs": [],
   "source": [
    "import spikeforest as sf"
   ]
  },
  {
   "cell_type": "code",
   "execution_count": 2,
   "metadata": {},
   "outputs": [],
   "source": [
    "recordings = sf.load_spikeforest_recordings(\n",
    "    'sha1://43298d72b2d0860ae45fc9b0864137a976cb76e8?hybrid-janelia-spikeforest-recordings.json'\n",
    ")"
   ]
  },
  {
   "cell_type": "code",
   "execution_count": 3,
   "metadata": {},
   "outputs": [
    {
     "name": "stdout",
     "output_type": "stream",
     "text": [
      "rec_16c_1200s_11\n",
      "rec_16c_1200s_21\n",
      "rec_16c_1200s_31\n",
      "rec_16c_600s_11\n",
      "rec_16c_600s_12\n",
      "rec_16c_600s_21\n",
      "rec_16c_600s_22\n",
      "rec_16c_600s_31\n",
      "rec_16c_600s_32\n",
      "rec_32c_1200s_11\n",
      "rec_32c_1200s_21\n",
      "rec_32c_1200s_31\n",
      "rec_32c_600s_11\n",
      "rec_32c_600s_12\n",
      "rec_32c_600s_21\n",
      "rec_32c_600s_22\n",
      "rec_32c_600s_31\n",
      "rec_32c_600s_32\n",
      "rec_64c_1200s_11\n",
      "rec_64c_600s_11\n",
      "rec_64c_600s_12\n"
     ]
    }
   ],
   "source": [
    "recordings = [\n",
    "    r for r in recordings\n",
    "    if r.study_name == 'hybrid_static_siprobe'\n",
    "]\n",
    "for r in recordings:\n",
    "    print(r.recording_name)"
   ]
  },
  {
   "cell_type": "markdown",
   "metadata": {},
   "source": [
    "## Save recordings"
   ]
  },
  {
   "cell_type": "code",
   "execution_count": 4,
   "metadata": {},
   "outputs": [],
   "source": [
    "import os \n",
    "import json\n",
    "import numpy as np\n",
    "import kachery_cloud as ka\n",
    "from spikeforest.load_extractors.MdaRecordingExtractorV2.MdaRecordingExtractorV2 import readmda\n",
    "\n",
    "\n",
    "def _json_serialize(x):\n",
    "    if isinstance(x, np.ndarray):\n",
    "        return _listify_ndarray(x)\n",
    "    elif isinstance(x, np.integer):\n",
    "        return int(x)\n",
    "    elif isinstance(x, np.floating):\n",
    "        return float(x)\n",
    "    elif type(x) == dict:\n",
    "        ret = dict()\n",
    "        for key, val in x.items():\n",
    "            ret[key] = _json_serialize(val)\n",
    "        return ret\n",
    "    elif type(x) == list:\n",
    "        ret = []\n",
    "        for i, val in enumerate(x):\n",
    "            ret.append(_json_serialize(val))\n",
    "        return ret\n",
    "    else:\n",
    "        return x\n",
    "\n",
    "def _listify_ndarray(x):\n",
    "    if x.ndim == 1:\n",
    "        if np.issubdtype(x.dtype, np.integer):\n",
    "            return [int(val) for val in x]\n",
    "        else:\n",
    "            return [float(val) for val in x]\n",
    "    elif x.ndim == 2:\n",
    "        ret = []\n",
    "        for j in range(x.shape[1]):\n",
    "            ret.append(_listify_ndarray(x[:, j]))\n",
    "        return ret\n",
    "    elif x.ndim == 3:\n",
    "        ret = []\n",
    "        for j in range(x.shape[2]):\n",
    "            ret.append(_listify_ndarray(x[:, :, j]))\n",
    "        return ret\n",
    "    elif x.ndim == 4:\n",
    "        ret = []\n",
    "        for j in range(x.shape[3]):\n",
    "            ret.append(_listify_ndarray(x[:, :, :, j]))\n",
    "        return ret\n",
    "    else:\n",
    "        raise Exception('Cannot listify ndarray with {} dims.'.format(x.ndim))"
   ]
  },
  {
   "cell_type": "code",
   "execution_count": 5,
   "metadata": {},
   "outputs": [],
   "source": [
    "# Save raw recordings\n",
    "\n",
    "path = \"data/hybrid_janelia/\"\n",
    "\n",
    "for R in recordings:\n",
    "    recname = R.recording_name\n",
    "    recfile = os.path.join(path, recname + '.json')\n",
    "    obj = _json_serialize(R.recording_object)\n",
    "    obj['self_reference'] = ka.store_json(\n",
    "        obj, label=f'{recname}.json'\n",
    "    )\n",
    "    with open(recfile, 'w') as f:\n",
    "        json.dump(obj, f, indent=4)\n",
    "    firings_true_file = os.path.join(path, recname + '.firings_true.json')\n",
    "    obj2 = R.sorting_true_object\n",
    "    obj2['self_reference'] = ka.store_json(\n",
    "        obj2, label=f'{recname}.firings_true.json'\n",
    "    )\n",
    "    with open(firings_true_file, 'w') as f:\n",
    "        json.dump(obj2, f, indent=4)\n",
    "\n",
    "    rec = R.get_recording_extractor()\n",
    "    mda = readmda(rec._kwargs['raw_path'])\n",
    "    np.save(os.path.join(path, recname), mda)"
   ]
  },
  {
   "cell_type": "code",
   "execution_count": 6,
   "metadata": {},
   "outputs": [
    {
     "name": "stdout",
     "output_type": "stream",
     "text": [
      "rec_16c_1200s_11.firings_true\n",
      "rec_16c_1200s_21.firings_true\n",
      "rec_16c_1200s_31.firings_true\n",
      "rec_16c_600s_11.firings_true\n",
      "rec_16c_600s_12.firings_true\n",
      "rec_16c_600s_21.firings_true\n",
      "rec_16c_600s_22.firings_true\n",
      "rec_16c_600s_31.firings_true\n",
      "rec_16c_600s_32.firings_true\n",
      "rec_32c_1200s_11.firings_true\n",
      "rec_32c_1200s_21.firings_true\n",
      "rec_32c_1200s_31.firings_true\n",
      "rec_32c_600s_11.firings_true\n",
      "rec_32c_600s_12.firings_true\n",
      "rec_32c_600s_21.firings_true\n",
      "rec_32c_600s_22.firings_true\n",
      "rec_32c_600s_31.firings_true\n",
      "rec_32c_600s_32.firings_true\n",
      "rec_64c_1200s_11.firings_true\n",
      "rec_64c_600s_11.firings_true\n",
      "rec_64c_600s_12.firings_true\n"
     ]
    }
   ],
   "source": [
    "# Save true firing rates\n",
    "\n",
    "path = \"data/hybrid_janelia/\"\n",
    "\n",
    "for R in recordings:\n",
    "    recname = f\"{R.recording_name}.firings_true\"\n",
    "    print(recname)\n",
    "    rec = R.get_sorting_true_extractor()\n",
    "    mda = readmda(rec._kwargs['file_path'])\n",
    "    np.save(os.path.join(path, recname), mda)"
   ]
  },
  {
   "cell_type": "code",
   "execution_count": null,
   "metadata": {},
   "outputs": [],
   "source": []
  }
 ],
 "metadata": {
  "kernelspec": {
   "display_name": "spikesorting",
   "language": "python",
   "name": "python3"
  },
  "language_info": {
   "codemirror_mode": {
    "name": "ipython",
    "version": 3
   },
   "file_extension": ".py",
   "mimetype": "text/x-python",
   "name": "python",
   "nbconvert_exporter": "python",
   "pygments_lexer": "ipython3",
   "version": "3.9.18"
  }
 },
 "nbformat": 4,
 "nbformat_minor": 2
}
